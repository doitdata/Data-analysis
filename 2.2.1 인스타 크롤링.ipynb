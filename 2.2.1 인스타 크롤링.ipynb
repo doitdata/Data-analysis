{
 "cells": [
  {
   "cell_type": "markdown",
   "metadata": {},
   "source": [
    "# 인스타 검색 결과 url 만들어서 접속\n"
   ]
  },
  {
   "cell_type": "code",
   "execution_count": 1,
   "metadata": {},
   "outputs": [],
   "source": [
    "from selenium import webdriver\n",
    "import re\n",
    "from bs4 import BeautifulSoup \n",
    "import time\n",
    "import pandas as pd"
   ]
  },
  {
   "cell_type": "markdown",
   "metadata": {},
   "source": [
    "# 인스타 접속 후 로그인하기"
   ]
  },
  {
   "cell_type": "code",
   "execution_count": 53,
   "metadata": {
    "scrolled": false
   },
   "outputs": [],
   "source": [
    "driver = webdriver.Chrome('./chromedriver_win32/chromedriver.exe')\n",
    "driver.get('https://www.instagram.com')\n",
    "time.sleep(2)\n",
    "\n",
    "# 아이디 입력\n",
    "email = 'funfun.data0813@gmail.com'\n",
    "input_id = driver.find_elements_by_css_selector('input._2hvTZ.pexuQ.zyHYP')[0]\n",
    "input_id.clear()\n",
    "input_id.send_keys(email)\n",
    "\n",
    "# 비밀번호 입력\n",
    "password = 'dftn7jj7'\n",
    "input_pw = driver.find_elements_by_css_selector('input._2hvTZ.pexuQ.zyHYP')[1]\n",
    "input_pw.send_keys(password)\n",
    "input_pw.submit()\n",
    "\n",
    "# 알림창 버튼 (나중에저장 클릭)\n",
    "time.sleep(2)\n",
    "close = driver.find_element_by_css_selector('div.cmbtv')\n",
    "close.click()\n",
    "\n",
    "# 알림창 버튼 2 (알림 설정)\n",
    "time.sleep(2)\n",
    "close = driver.find_element_by_css_selector('button.aOOlW.HoLwm')\n",
    "close.click()\n"
   ]
  },
  {
   "cell_type": "markdown",
   "metadata": {},
   "source": [
    "### 4-1 인스타 검색 결과 url을 만들어 접속하기"
   ]
  },
  {
   "cell_type": "code",
   "execution_count": 54,
   "metadata": {},
   "outputs": [],
   "source": [
    "def insta_searching(word):\n",
    "    url = 'https://www.instagram.com/explore/tags/' + word\n",
    "    return url"
   ]
  },
  {
   "cell_type": "markdown",
   "metadata": {},
   "source": [
    "### 4-2 selenium으로 url 접속하기"
   ]
  },
  {
   "cell_type": "code",
   "execution_count": 55,
   "metadata": {},
   "outputs": [],
   "source": [
    "word = '제주도맛집'\n",
    "url = insta_searching(word)\n",
    "driver.get(url)"
   ]
  },
  {
   "cell_type": "markdown",
   "metadata": {},
   "source": [
    "# 첫번째 게시글 열기"
   ]
  },
  {
   "cell_type": "markdown",
   "metadata": {},
   "source": [
    "### 4-3 html에서 첫번째 게시글 찾아 클릭하기"
   ]
  },
  {
   "cell_type": "code",
   "execution_count": 56,
   "metadata": {},
   "outputs": [],
   "source": [
    "def select_first(driver):\n",
    "    first = driver.find_element_by_css_selector(\"div.v1Nh3.kIKUG._bz0w\")\n",
    "    first.click()\n",
    "    time.sleep(3)\n",
    "    \n",
    "select_first(driver)"
   ]
  },
  {
   "cell_type": "markdown",
   "metadata": {},
   "source": [
    "# 게시글 정보 가져오기"
   ]
  },
  {
   "cell_type": "markdown",
   "metadata": {},
   "source": [
    "### 4-4 게시글 정보 가져오기"
   ]
  },
  {
   "cell_type": "code",
   "execution_count": 57,
   "metadata": {},
   "outputs": [
    {
     "data": {
      "text/plain": [
       "['탁 트인 시원한 뷰 보면서 힐링해야지💙바다와 맞닿은 야외석도🌊시원시원 액자뷰 통유리창도 가야지😍@이런 뷰는 인생샷도 필수야 알지?🙋\\u200d♀️..#제주핫플 #제주데이트 #제주데이트코스 #제주여행 #제주여행코스 #제주가볼만한곳 #제주카페 #제주도카페 #제주맛집 #제주도맛집 #우도맛집 #우도온오프 #속골 #난드르바당 #모알보알',\n",
       " '2021-06-13',\n",
       " 0,\n",
       " '',\n",
       " ['#제주핫플',\n",
       "  '#제주데이트',\n",
       "  '#제주데이트코스',\n",
       "  '#제주여행',\n",
       "  '#제주여행코스',\n",
       "  '#제주가볼만한곳',\n",
       "  '#제주카페',\n",
       "  '#제주도카페',\n",
       "  '#제주맛집',\n",
       "  '#제주도맛집',\n",
       "  '#우도맛집',\n",
       "  '#우도온오프',\n",
       "  '#속골',\n",
       "  '#난드르바당',\n",
       "  '#모알보알']]"
      ]
     },
     "execution_count": 57,
     "metadata": {},
     "output_type": "execute_result"
    }
   ],
   "source": [
    "def get_content(driver):\n",
    "\n",
    "    # 현재 페이지 정보 가져오기\n",
    "    html = driver.page_source\n",
    "    soup = BeautifulSoup(html,'lxml')\n",
    "    \n",
    "    # 본문 내용 가져오기\n",
    "    try:\n",
    "        content = soup.select('div.C4VMK > span')[0].text\n",
    "    except:\n",
    "        content=' '\n",
    "        \n",
    "    # 본문 내용에서 해시태그 가져오기 (정규식 활용)\n",
    "    tags = re.findall(r'#[^\\s#,\\\\]+', content)\n",
    "    \n",
    "    # 작성일자 정보 가져오기\n",
    "    date = soup.select('time._1o9PC.Nzb55')[0]['datetime'][:10]\n",
    "\n",
    "    # 좋아요 수 가져오기\n",
    "    try:\n",
    "        like = soup.select('div.Nm9Fw > button')[0].text[4:-1]\n",
    "    except:\n",
    "        like=0\n",
    "        \n",
    "    # 위치정보가져오기\n",
    "    try:\n",
    "        place = soup.select('div.M30cS')[0].text\n",
    "    except:\n",
    "        place=''\n",
    "        \n",
    "    # 수집한 정보 저장하기\n",
    "    data = [content, date, like, place, tags]\n",
    "    return data\n",
    "\n",
    "get_content(driver)\n",
    "\n",
    "# like, place 두개 수집이 안됨"
   ]
  },
  {
   "cell_type": "markdown",
   "metadata": {},
   "source": [
    "### 4-5 다음 게시글 열기"
   ]
  },
  {
   "cell_type": "code",
   "execution_count": 58,
   "metadata": {},
   "outputs": [],
   "source": [
    "def move_next(driver):\n",
    "    right = driver.find_element_by_css_selector('a._65Bje.coreSpriteRightPaginationArrow')\n",
    "    right.click()\n",
    "    time.sleep(2)\n",
    "    \n",
    "move_next(driver)    "
   ]
  },
  {
   "cell_type": "markdown",
   "metadata": {},
   "source": [
    "### 4-6 여러 게시글 정보 수집하기\n",
    "- 검색 : 제주도맛집, 제주맛집, 제주여행, 제주관광 "
   ]
  },
  {
   "cell_type": "code",
   "execution_count": 69,
   "metadata": {
    "scrolled": true
   },
   "outputs": [
    {
     "name": "stdout",
     "output_type": "stream",
     "text": [
      "[['이가격실화??갈치조림정식이 1만원.직접만든 도토리묵반찬에~~부실한 반찬이아닌 김치부터 모든 밑반찬을 직접만드심👍#제주가성비맛집#보말칼국수 또한 찐😍이건 꼭 먹어야해😋도민들사이에서만 쉬쉬거리며 유명한 #제주도민맛집.🔹️상호:#보리밥과수제비.🔹️아침식사가능단체예약문의 📞064-721-1239.🔹️오전8~오후8시까지 영업\\xa0\\xa0\\xa0\\xa0 (재료소진시 조기마감).🔹️제주시 가령로 61-1..#제주맛집 #제주도맛집 #제주공항근처맛집 #제주공항맛집 #제주갈치조림맛집 #제주도갈치조림 #제주도공항근처맛집 #제주시맛집 #제주동문시장맛집 #제주보말칼국수 #보말칼국수맛집 #갈치조림맛집 #제주공항근처아침식사 #동문시장맛집 #제주시청맛집 #제주맛집추천 #제주도공항맛집 #제주도갈치맛집 #제주도갈치조림맛집 #제주갈치조림 #제주갈치맛집 #제주보말칼국수맛집 #제주도보말칼국수', '2021-06-15', 0, '', ['#제주가성비맛집', '#보말칼국수', '#제주도민맛집.🔹️상호:', '#보리밥과수제비.🔹️아침식사가능단체예약문의', '#제주맛집', '#제주도맛집', '#제주공항근처맛집', '#제주공항맛집', '#제주갈치조림맛집', '#제주도갈치조림', '#제주도공항근처맛집', '#제주시맛집', '#제주동문시장맛집', '#제주보말칼국수', '#보말칼국수맛집', '#갈치조림맛집', '#제주공항근처아침식사', '#동문시장맛집', '#제주시청맛집', '#제주맛집추천', '#제주도공항맛집', '#제주도갈치맛집', '#제주도갈치조림맛집', '#제주갈치조림', '#제주갈치맛집', '#제주보말칼국수맛집', '#제주도보말칼국수']], ['제주공항근처과 애월사이에위치한 오션뷰 #애월맛집이춘옥원조고등어쌈밥입니다.장마⛈가 시작될듯하네요~이동하실때 우산☔꼭 챙기시구요♡다른곳에 가셔서 식사하시더라도기분좋게! 서비스좋은곳!으로#제주맛집 성공기원되시길 바랍니다#애월맛집 이되도록 노력하겠습니다^^.★하나더★네이버예약시 / 포장주문시 10%할인^^-제주도 원조 고등어쌈밥 맛집-가족끼리 가도 부담없는 맛과 양과 자리-공항에서 15분거리.𖤐 애월본점(수요일휴무)🚖위치:제주공항 10분 애월해안도로입구🕰시간:09:00~21:00.𖤐 월정리점(수요일휴무)🚖위치: 제주시 구좌읍 월정중길 19-11🕰시간:09:00~21:00.#제주애월맛집 #제주공항근처맛집#제주한담맛집 #제주고등어쌈밥', '2021-06-15', 0, '', ['#애월맛집이춘옥원조고등어쌈밥입니다.장마⛈가', '#제주맛집', '#애월맛집', '#제주애월맛집', '#제주공항근처맛집', '#제주한담맛집', '#제주고등어쌈밥']]]\n"
     ]
    }
   ],
   "source": [
    "driver = webdriver.Chrome('./chromedriver_win32/chromedriver.exe')\n",
    "driver.get('https://www.instagram.com')\n",
    "time.sleep(2)\n",
    "\n",
    "email = 'funfun.data0813@gmail.com'\n",
    "input_id = driver.find_elements_by_css_selector('input._2hvTZ.pexuQ.zyHYP')[0]\n",
    "input_id.clear()\n",
    "input_id.send_keys(email)\n",
    "\n",
    "password = 'dftn7jj7'\n",
    "input_pw = driver.find_elements_by_css_selector('input._2hvTZ.pexuQ.zyHYP')[1]\n",
    "input_pw.clear()\n",
    "input_pw.send_keys(password)\n",
    "input_pw.submit()\n",
    "\n",
    "# 알림창 버튼 (나중에저장 클릭)\n",
    "time.sleep(5)\n",
    "close = driver.find_element_by_css_selector('div.cmbtv')\n",
    "close.click()\n",
    "\n",
    "# 알림창 버튼 2 (알림 설정)\n",
    "time.sleep(5)\n",
    "close2 = driver.find_element_by_css_selector('button.aOOlW.HoLwm')\n",
    "close2.click()\n",
    "\n",
    "word = '제주맛집'\n",
    "url = insta_searching(word)\n",
    "\n",
    "driver.get(url)\n",
    "time.sleep(10)\n",
    "\n",
    "select_first(driver)\n",
    "\n",
    "results = []\n",
    "\n",
    "target = 50 # 크롤링할 게시글 수\n",
    "for i in range(target):\n",
    "    data = get_content(driver)\n",
    "    results.append(data)\n",
    "    move_next(driver)\n",
    "    \n",
    "print(results[:2])"
   ]
  },
  {
   "cell_type": "markdown",
   "metadata": {},
   "source": [
    "### 4-7 크롤링 결과 저장하기"
   ]
  },
  {
   "cell_type": "code",
   "execution_count": 70,
   "metadata": {},
   "outputs": [],
   "source": [
    "results_df =pd.DataFrame(results)\n",
    "results_df.columns=['content','data','like','place','tags']\n",
    "results_df.to_excel('./4.4 crawling_jejuMatJip.xlsx')"
   ]
  },
  {
   "cell_type": "markdown",
   "metadata": {},
   "source": [
    "### 4-8 여러 엑셀 파일의 중복을 제거한 후 통합 저장"
   ]
  },
  {
   "cell_type": "code",
   "execution_count": 76,
   "metadata": {
    "scrolled": false
   },
   "outputs": [],
   "source": [
    "jeju_insta_df = pd.DataFrame( [ ] )\n",
    "\n",
    "folder = 'D:/Python_Project/portfolio/Data analysis/chapter4/'\n",
    "f_list = ['4.1 crawling_jejuYeoHang.xlsx', '4.2 crawling_jejudoMatJip.xlsx', '4.3 crawling_jejudoGwanGwang.xlsx', '4.4 crawling_jejuMatJip.xlsx']\n",
    "for fname in f_list:\n",
    "    fpath = folder + fname\n",
    "    temp = pd.read_excel(fpath)\n",
    "    jeju_insta_df = jeju_insta_df.append(temp)\n",
    "\n",
    "jeju_insta_df.columns =['no','content','data','like','place','tags']"
   ]
  },
  {
   "cell_type": "markdown",
   "metadata": {},
   "source": [
    "### 4- 중복 데이터 제거하고 저장하기"
   ]
  },
  {
   "cell_type": "code",
   "execution_count": 78,
   "metadata": {},
   "outputs": [],
   "source": [
    "jeju_insta_df.drop_duplicates(subset=['content'], inplace=True)\n",
    "jeju_insta_df.to_excel('./4.1 crawling_raw.xlsx', index=False)"
   ]
  },
  {
   "cell_type": "code",
   "execution_count": null,
   "metadata": {},
   "outputs": [],
   "source": []
  }
 ],
 "metadata": {
  "kernelspec": {
   "display_name": "Python 3",
   "language": "python",
   "name": "python3"
  },
  "language_info": {
   "codemirror_mode": {
    "name": "ipython",
    "version": 3
   },
   "file_extension": ".py",
   "mimetype": "text/x-python",
   "name": "python",
   "nbconvert_exporter": "python",
   "pygments_lexer": "ipython3",
   "version": "3.6.5"
  }
 },
 "nbformat": 4,
 "nbformat_minor": 4
}
